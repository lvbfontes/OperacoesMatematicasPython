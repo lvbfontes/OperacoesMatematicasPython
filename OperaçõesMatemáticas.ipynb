{
  "nbformat": 4,
  "nbformat_minor": 0,
  "metadata": {
    "colab": {
      "name": "OperaçõesMatemáticas.ipynb",
      "provenance": [],
      "authorship_tag": "ABX9TyNpK74C3cQMGFpGx2MQ+wNI",
      "include_colab_link": true
    },
    "kernelspec": {
      "name": "python3",
      "display_name": "Python 3"
    }
  },
  "cells": [
    {
      "cell_type": "markdown",
      "metadata": {
        "id": "view-in-github",
        "colab_type": "text"
      },
      "source": [
        "<a href=\"https://colab.research.google.com/github/lvbfontes/OperacoesMatematicasPython/blob/main/Opera%C3%A7%C3%B5esMatem%C3%A1ticas.ipynb\" target=\"_parent\"><img src=\"https://colab.research.google.com/assets/colab-badge.svg\" alt=\"Open In Colab\"/></a>"
      ]
    },
    {
      "cell_type": "code",
      "metadata": {
        "id": "khHi35Vs6O5m",
        "outputId": "fdb2b4a0-7b0a-4951-8d15-fd2538638f13",
        "colab": {
          "base_uri": "https://localhost:8080/"
        }
      },
      "source": [
        "#soma\n",
        "print(2 + 2)"
      ],
      "execution_count": 1,
      "outputs": [
        {
          "output_type": "stream",
          "text": [
            "4\n"
          ],
          "name": "stdout"
        }
      ]
    },
    {
      "cell_type": "code",
      "metadata": {
        "id": "O1KJdaw-6dv3",
        "outputId": "25af9313-9ee0-4536-edfe-55777f5d00ae",
        "colab": {
          "base_uri": "https://localhost:8080/"
        }
      },
      "source": [
        "#subtração\n",
        "print(2 - 2)"
      ],
      "execution_count": 2,
      "outputs": [
        {
          "output_type": "stream",
          "text": [
            "0\n"
          ],
          "name": "stdout"
        }
      ]
    },
    {
      "cell_type": "code",
      "metadata": {
        "id": "_Xr48cpJ6htD",
        "outputId": "615f0453-338f-4f0f-d5e8-461dbf4b0afa",
        "colab": {
          "base_uri": "https://localhost:8080/"
        }
      },
      "source": [
        "#multiplicação\n",
        "print(2 * 2)"
      ],
      "execution_count": 3,
      "outputs": [
        {
          "output_type": "stream",
          "text": [
            "4\n"
          ],
          "name": "stdout"
        }
      ]
    },
    {
      "cell_type": "code",
      "metadata": {
        "id": "Y_kBj1_A6mg9",
        "outputId": "71c120af-d56f-4b74-a6ca-c94b4427a222",
        "colab": {
          "base_uri": "https://localhost:8080/"
        }
      },
      "source": [
        "#divisão\n",
        "print(2 / 2)"
      ],
      "execution_count": 4,
      "outputs": [
        {
          "output_type": "stream",
          "text": [
            "1.0\n"
          ],
          "name": "stdout"
        }
      ]
    },
    {
      "cell_type": "code",
      "metadata": {
        "id": "24JnSWAH6yqf",
        "outputId": "b6669017-dfed-4d2e-be1d-1199f85af967",
        "colab": {
          "base_uri": "https://localhost:8080/"
        }
      },
      "source": [
        "#exponenciação\n",
        "print(2 ** 3)"
      ],
      "execution_count": 5,
      "outputs": [
        {
          "output_type": "stream",
          "text": [
            "8\n"
          ],
          "name": "stdout"
        }
      ]
    },
    {
      "cell_type": "code",
      "metadata": {
        "id": "eHmpomkO64VY",
        "outputId": "31ba3adf-77a0-4963-9638-06891111db39",
        "colab": {
          "base_uri": "https://localhost:8080/"
        }
      },
      "source": [
        "#módulo (resto da divisão)\n",
        "print(10 % 3)"
      ],
      "execution_count": 6,
      "outputs": [
        {
          "output_type": "stream",
          "text": [
            "1\n"
          ],
          "name": "stdout"
        }
      ]
    },
    {
      "cell_type": "code",
      "metadata": {
        "id": "heL-85eu6_0k"
      },
      "source": [
        ""
      ],
      "execution_count": null,
      "outputs": []
    }
  ]
}